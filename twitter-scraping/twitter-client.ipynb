{
 "nbformat_minor": 2,
 "cells": [
  {
   "execution_count": null,
   "cell_type": "code",
   "source": [
    "#!/usr/bin/env python\n",
    "# -*- coding: utf-8 -*-\n",
    "# Columbia EECS E6893 Big Data Analytics HW2\n",
    "\n",
    "\n",
    "import tweepy\n",
    "from tweepy import OAuthHandler\n",
    "from tweepy import Stream\n",
    "from tweepy.streaming import StreamListener\n",
    "import socket\n",
    "import json\n",
    "\n",
    "\n",
    "ACCESS_TOKEN = 'XXXX'     # access token\n",
    "ACCESS_SECRET = 'XXXX'    # access token secret\n",
    "CONSUMER_KEY = 'XXXX'     # API key\n",
    "CONSUMER_SECRET = 'XXXX'  # API secret key\n",
    "\n",
    "# the tags to track\n",
    "tags = ['spiderman', 'no way home', 'peterparker', 'tom holland', 'SpiderManNoWayHome']\n",
    "\n",
    "class TweetsListener(StreamListener):\n",
    "    def __init__(self, csocket):\n",
    "        self.client_socket = csocket\n",
    "    def on_data(self, data):\n",
    "        try:\n",
    "            msg = json.loads( data )\n",
    "            print('TEXT:{}\\n'.format(msg['text']))\n",
    "            self.client_socket.send( msg['text'].encode('utf-8') )\n",
    "            return True\n",
    "        except BaseException as e:\n",
    "            print(\"Error on_data: %s\" % str(e))\n",
    "            return False\n",
    "        # return True\n",
    "    def on_error(self, status):\n",
    "        print(status)\n",
    "        return False\n",
    "\n",
    "def sendData(c_socket, tags):\n",
    "    auth = OAuthHandler(CONSUMER_KEY, CONSUMER_SECRET)\n",
    "    auth.set_access_token(ACCESS_TOKEN, ACCESS_SECRET)\n",
    "    twitter_stream = Stream(auth, TweetsListener(c_socket))\n",
    "    twitter_stream.filter(track=tags,languages=['en'])\n",
    "\n",
    "\n",
    "class twitter_client:\n",
    "    def __init__(self, TCP_IP, TCP_PORT):\n",
    "      self.s = s = socket.socket(socket.AF_INET, socket.SOCK_STREAM)\n",
    "      self.s.bind((TCP_IP, TCP_PORT))\n",
    "\n",
    "    def run_client(self, tags):\n",
    "      try:\n",
    "        self.s.listen(1)\n",
    "        while True:\n",
    "          print(\"Waiting for TCP connection...\")\n",
    "          conn, addr = self.s.accept()\n",
    "          print(\"Connected... Starting getting tweets.\")\n",
    "          sendData(conn,tags)\n",
    "          conn.close()\n",
    "      except KeyboardInterrupt:\n",
    "        exit\n",
    "\n",
    "\n",
    "if __name__ == '__main__':\n",
    "    client = twitter_client(\"localhost\", 9001)\n",
    "    client.run_client(tags)\n"
   ],
   "outputs": [
    {
     "output_type": "stream",
     "name": "stdout",
     "text": "Waiting for TCP connection...\nConnected... Starting getting tweets.\nError on_data: 'ascii' codec can't encode character u'\\u2026' in position 115: ordinal not in range(128)\nWaiting for TCP connection...\nConnected... Starting getting tweets.\nTEXT:RT @eoseless: o meme.\n#SpiderManNoWayHome https://t.co/UHEwY563qd\n\nTEXT:I wanna see more but please let tom holland rest first omfg\n\nTEXT:RT @gabs1229: Spiderman 300000000/10 wow bye ameisin\n\nError on_data: 'ascii' codec can't encode character u'\\u2019' in position 50: ordinal not in range(128)\nWaiting for TCP connection...\nConnected... Starting getting tweets.\nTEXT:RT @btspopmp3: time to bring this edit back (by ggukreum)\nhttps://t.co/1EwUUqb8mm\n\nError on_data: 'ascii' codec can't encode character u'\\u2019' in position 35: ordinal not in range(128)\nWaiting for TCP connection...\nConnected... Starting getting tweets.\nTEXT:RT @Michael5SOS: the new spiderman is the best movie I have ever seen in my life\n\nError on_data: 'ascii' codec can't encode characters in position 47-50: ordinal not in range(128)\nWaiting for TCP connection...\nConnected... Starting getting tweets.\nTEXT:RT @beebinton: zendaya really dating tom holland just to make me jealous LMFAOOOO\n\nTEXT:RT @RenGeekness: 4 stages of watching #SpiderManNoWayHome https://t.co/Gbwx3D07z1\n\nError on_data: 'ascii' codec can't encode character u'\\u2026' in position 139: ordinal not in range(128)\nWaiting for TCP connection...\nConnected... Starting getting tweets.\nError on_data: 'ascii' codec can't encode characters in position 94-95: ordinal not in range(128)\nWaiting for TCP connection...\nConnected... Starting getting tweets.\n420\nWaiting for TCP connection...\nConnected... Starting getting tweets.\n420\nWaiting for TCP connection...\nConnected... Starting getting tweets.\n420\nWaiting for TCP connection...\nConnected... Starting getting tweets.\n420\nWaiting for TCP connection...\nConnected... Starting getting tweets.\n420\nWaiting for TCP connection...\nConnected... Starting getting tweets.\n420\nWaiting for TCP connection...\nConnected... Starting getting tweets.\n420\nWaiting for TCP connection...\nConnected... Starting getting tweets.\n420\nWaiting for TCP connection...\nConnected... Starting getting tweets.\n420\nWaiting for TCP connection...\nConnected... Starting getting tweets.\n420\nWaiting for TCP connection...\nConnected... Starting getting tweets.\n420\nWaiting for TCP connection...\nConnected... Starting getting tweets.\n420\nWaiting for TCP connection...\nConnected... Starting getting tweets.\n420\nWaiting for TCP connection...\nConnected... Starting getting tweets.\n420\nWaiting for TCP connection...\nConnected... Starting getting tweets.\n420\nWaiting for TCP connection...\nConnected... Starting getting tweets.\n420\nWaiting for TCP connection...\nConnected... Starting getting tweets.\n420\nWaiting for TCP connection...\nConnected... Starting getting tweets.\n420\nWaiting for TCP connection...\nConnected... Starting getting tweets.\n420\nWaiting for TCP connection...\nConnected... Starting getting tweets.\n420\nWaiting for TCP connection...\nConnected... Starting getting tweets.\n420\nWaiting for TCP connection...\nConnected... Starting getting tweets.\n420\nWaiting for TCP connection...\nConnected... Starting getting tweets.\nTEXT:RT @alfuckuhard: Am I watching the correct spiderman everyone talking about https://t.co/g6VRNQaMN6\n\nError on_data: 'ascii' codec can't encode character u'\\u2026' in position 138: ordinal not in range(128)\nWaiting for TCP connection...\nConnected... Starting getting tweets.\nError on_data: 'ascii' codec can't encode character u'\\u2026' in position 115: ordinal not in range(128)\nWaiting for TCP connection...\nConnected... Starting getting tweets.\nTEXT:@123450Darkrage @xindigox1 @TikoFn @Lazarbeam hes probably asking for the one in the shop, tom holland\n\nTEXT:RT @ruesdaya: her spiderman.                        his mj. https://t.co/5Q7CQ0gHsJ\n\nTEXT:RT @TwitterMovies: Tom Holland in #BTSARMY confirmed https://t.co/MsBOb3NnIL  https://t.co/QV0oNN7bbV\n\nTEXT:RT @dionysiiac: if i was dating zendaya i too would quit my job and become a househusband\n\nTEXT:RT @thebtszone: \"BTS is a big deal\" - Tom Holland 2021\n\nTEXT:RT @blaccmassxx: best spiderman movies of all time https://t.co/QNJfguiHTw\n\nError on_data: 'ascii' codec can't encode character u'\\u2026' in position 138: ordinal not in range(128)\nWaiting for TCP connection...\nConnected... Starting getting tweets.\nTEXT:RT @Michael5SOS: the new spiderman is the best movie I have ever seen in my life\n\nTEXT:RT @LOUISARCHlVE: tom holland saying his favorite one direction member is louis lives in my head rent free https://t.co/flSsTNhDrq\n\nTEXT:RT @jvnggkuk: someone please check on user abcdefghi__lmnopqrstuvwxyz once he finds out tom holland said bts is a big deal\n\nError on_data: 'ascii' codec can't encode character u'\\U0001f4af' in position 110: ordinal not in range(128)\nWaiting for TCP connection...\nConnected... Starting getting tweets.\nError on_data: 'ascii' codec can't encode characters in position 47-50: ordinal not in range(128)\nWaiting for TCP connection...\nConnected... Starting getting tweets.\nError on_data: 'ascii' codec can't encode character u'\\u2019' in position 26: ordinal not in range(128)\nWaiting for TCP connection...\nConnected... Starting getting tweets.\n420\nWaiting for TCP connection...\nConnected... Starting getting tweets.\n420\nWaiting for TCP connection...\nConnected... Starting getting tweets.\n420\nWaiting for TCP connection...\nConnected... Starting getting tweets.\n420\nWaiting for TCP connection...\nConnected... Starting getting tweets.\n420\nWaiting for TCP connection...\n"
    }
   ],
   "metadata": {}
  },
  {
   "execution_count": null,
   "cell_type": "code",
   "source": "",
   "outputs": [],
   "metadata": {}
  }
 ],
 "nbformat": 4,
 "metadata": {
  "kernelspec": {
   "display_name": "PySpark",
   "name": "pyspark",
   "language": "python"
  },
  "language_info": {
   "mimetype": "text/x-python",
   "nbconvert_exporter": "python",
   "version": "2.7.14",
   "name": "python",
   "file_extension": ".py",
   "pygments_lexer": "ipython2",
   "codemirror_mode": {
    "version": 2,
    "name": "ipython"
   }
  }
 }
}