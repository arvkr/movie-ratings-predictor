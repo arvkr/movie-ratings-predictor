{
 "nbformat_minor": 2,
 "cells": [
  {
   "execution_count": null,
   "cell_type": "code",
   "source": [
    "#!/usr/bin/env python\n",
    "# -*- coding: utf-8 -*-\n",
    "# Columbia EECS E6893 Big Data Analytics HW2\n",
    "\n",
    "from pyspark import SparkConf,SparkContext\n",
    "from pyspark.streaming import StreamingContext\n",
    "from pyspark.sql import Row,SQLContext\n",
    "import sys\n",
    "import requests\n",
    "import time\n",
    "import subprocess\n",
    "import re\n",
    "from google.cloud import bigquery\n",
    "\n",
    "bucket = \"word-count-bucket11\"\n",
    "output_directory_tweets = 'gs://{}/tweets/data'.format(bucket)\n",
    "\n",
    "output_dataset = 'bigdata_sparkStreaming'\n",
    "\n",
    "IP = 'localhost'\n",
    "PORT = 9001\n",
    "\n",
    "STREAMTIME = 300\n",
    "\n",
    "\n",
    "def saveToStorage(rdd, output_directory, columns_name, mode):\n",
    "    if not rdd.isEmpty():\n",
    "        (rdd.toDF( columns_name ) \\\n",
    "        .write.save(output_directory, format=\"json\", mode=mode))\n",
    "\n",
    "        \n",
    "\n",
    "def saveToBigQuery(sc, output_dataset, output_table, directory):\n",
    "    files = directory + '/part-*'\n",
    "    subprocess.check_call(\n",
    "        'bq load --source_format NEWLINE_DELIMITED_JSON '\n",
    "        '--replace '\n",
    "        '--autodetect '\n",
    "        '{dataset}.{table} {files}'.format(\n",
    "            dataset=output_dataset, table=output_table, files=files\n",
    "        ).split())\n",
    "    output_path = sc._jvm.org.apache.hadoop.fs.Path(directory)\n",
    "    output_path.getFileSystem(sc._jsc.hadoopConfiguration()).delete(\n",
    "        output_path, True)\n",
    "\n",
    "\n",
    "if __name__ == '__main__':\n",
    "    conf = SparkConf()\n",
    "    conf.setMaster('local[2]')\n",
    "    conf.setAppName(\"TwitterStreamApp\")\n",
    "\n",
    "    sc = SparkContext(conf=conf)\n",
    "    sc.setLogLevel(\"ERROR\")\n",
    "\n",
    "    sql_context = SQLContext(sc)\n",
    "\n",
    "    ssc = StreamingContext(sc, 5)\n",
    "    ssc.checkpoint(\"~/checkpoint_TwitterApp\")\n",
    "\n",
    "    dataStream = ssc.socketTextStream(IP, PORT)\n",
    "    dataStream.pprint()\n",
    "\n",
    "    tweets = dataStream.transform(lambda rdd: rdd.map(lambda x: (x, )))\n",
    "    tweets.foreachRDD(lambda rdd: saveToStorage(\n",
    "        rdd, output_directory_tweets, ['tweets'], mode=\"append\"))\n",
    "\n",
    "    ssc.start()\n",
    "    time.sleep(STREAMTIME)\n",
    "    ssc.stop(stopSparkContext=False, stopGraceFully=True)\n",
    "\n",
    "    saveToBigQuery(sc, output_dataset, 'spiderman_tweets', output_directory_tweets)\n",
    "    \n",
    "\n",
    "\n"
   ],
   "outputs": [
    {
     "output_type": "stream",
     "name": "stdout",
     "text": "-------------------------------------------\nTime: 2021-12-18 05:42:40\n-------------------------------------------\n\n-------------------------------------------\nTime: 2021-12-18 05:42:45\n-------------------------------------------\nRT @eoseless: o meme.\n#SpiderManNoWayHome https://t.co/UHEwY563qdI wanna see more but please let tom holland rest first omfgRT @gabs1229: Spiderman 300000000/10 wow bye ameisin\nRT @btspopmp3: time to bring this edit back (by ggukreum)\nhttps://t.co/1EwUUqb8mm\n\n-------------------------------------------\nTime: 2021-12-18 05:42:50\n-------------------------------------------\nRT @Michael5SOS: the new spiderman is the best movie I have ever seen in my life\nRT @beebinton: zendaya really dating tom holland just to make me jealous LMFAOOOORT @RenGeekness: 4 stages of watching #SpiderManNoWayHome https://t.co/Gbwx3D07z1\n\n-------------------------------------------\nTime: 2021-12-18 05:42:55\n-------------------------------------------\n\n-------------------------------------------\nTime: 2021-12-18 05:43:00\n-------------------------------------------\n\n-------------------------------------------\nTime: 2021-12-18 05:43:05\n-------------------------------------------\n\n-------------------------------------------\nTime: 2021-12-18 05:43:10\n-------------------------------------------\n\n-------------------------------------------\nTime: 2021-12-18 05:43:15\n-------------------------------------------\n\n-------------------------------------------\nTime: 2021-12-18 05:43:20\n-------------------------------------------\n\n-------------------------------------------\nTime: 2021-12-18 05:43:25\n-------------------------------------------\n\n-------------------------------------------\nTime: 2021-12-18 05:43:30\n-------------------------------------------\n\n-------------------------------------------\nTime: 2021-12-18 05:43:35\n-------------------------------------------\n\n-------------------------------------------\nTime: 2021-12-18 05:43:40\n-------------------------------------------\nRT @alfuckuhard: Am I watching the correct spiderman everyone talking about https://t.co/g6VRNQaMN6\n\n-------------------------------------------\nTime: 2021-12-18 05:43:45\n-------------------------------------------\n@123450Darkrage @xindigox1 @TikoFn @Lazarbeam hes probably asking for the one in the shop, tom hollandRT @ruesdaya: her spiderman.                        his mj. https://t.co/5Q7CQ0gHsJRT @TwitterMovies: Tom Holland in #BTSARMY confirmed https://t.co/MsBOb3NnIL  https://t.co/QV0oNN7bbVRT @dionysiiac: if i was dating zendaya i too would quit my job and become a househusbandRT @thebtszone: \"BTS is a big deal\" - Tom Holland 2021RT @blaccmassxx: best spiderman movies of all time https://t.co/QNJfguiHTw\n\n-------------------------------------------\nTime: 2021-12-18 05:43:50\n-------------------------------------------\nRT @Michael5SOS: the new spiderman is the best movie I have ever seen in my lifeRT @LOUISARCHlVE: tom holland saying his favorite one direction member is louis lives in my head rent free https://t.co/flSsTNhDrqRT @jvnggkuk: someone please check on user abcdefghi__lmnopqrstuvwxyz once he finds out tom holland said bts is a big deal\n\n-------------------------------------------\nTime: 2021-12-18 05:43:55\n-------------------------------------------\n\n-------------------------------------------\nTime: 2021-12-18 05:44:00\n-------------------------------------------\n\n"
    }
   ],
   "metadata": {}
  },
  {
   "execution_count": 2,
   "cell_type": "code",
   "source": "sc.stop()",
   "outputs": [],
   "metadata": {}
  },
  {
   "execution_count": null,
   "cell_type": "code",
   "source": "",
   "outputs": [],
   "metadata": {}
  }
 ],
 "nbformat": 4,
 "metadata": {
  "kernelspec": {
   "display_name": "PySpark",
   "name": "pyspark",
   "language": "python"
  },
  "language_info": {
   "mimetype": "text/x-python",
   "nbconvert_exporter": "python",
   "version": "2.7.14",
   "name": "python",
   "file_extension": ".py",
   "pygments_lexer": "ipython2",
   "codemirror_mode": {
    "version": 2,
    "name": "ipython"
   }
  }
 }
}